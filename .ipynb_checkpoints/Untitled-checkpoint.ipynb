{
 "cells": [
  {
   "cell_type": "code",
   "execution_count": 2,
   "id": "quarterly-musical",
   "metadata": {},
   "outputs": [
    {
     "name": "stdout",
     "output_type": "stream",
     "text": [
      "801\n"
     ]
    }
   ],
   "source": [
    "from json import load\n",
    "import os\n",
    "\n",
    "NOTEBOOK_NAME = 'imageProcessing.ipynb'\n",
    "\n",
    "cells = load(open(NOTEBOOK_NAME))['cells']\n",
    "\n",
    "print(sum(len(c['source']) for c in cells if c['cell_type'] == 'code'))"
   ]
  },
  {
   "cell_type": "code",
   "execution_count": 7,
   "id": "lovely-violence",
   "metadata": {},
   "outputs": [
    {
     "data": {
      "text/plain": [
       "1185"
      ]
     },
     "execution_count": 7,
     "metadata": {},
     "output_type": "execute_result"
    }
   ],
   "source": [
    "110+191+83+801"
   ]
  },
  {
   "cell_type": "code",
   "execution_count": 14,
   "id": "primary-thanksgiving",
   "metadata": {},
   "outputs": [],
   "source": [
    "#d = os.listdir()\n",
    "d = ['classification.ipynb', 'data_preprocessing.ipynb', 'ImageProcessing.ipynb']"
   ]
  },
  {
   "cell_type": "code",
   "execution_count": 17,
   "id": "theoretical-router",
   "metadata": {},
   "outputs": [
    {
     "name": "stdout",
     "output_type": "stream",
     "text": [
      "110\n",
      "191\n",
      "801\n",
      "1102\n"
     ]
    }
   ],
   "source": [
    "TOTAL = 0\n",
    "for fileName in d:\n",
    "    cells = load(open(fileName))['cells']\n",
    "    current = sum(len(c['source']) for c in cells if c['cell_type'] == 'code')\n",
    "    print(current)\n",
    "    TOTAL = TOTAL + current\n",
    "print(TOTAL)"
   ]
  }
 ],
 "metadata": {
  "kernelspec": {
   "display_name": "Python 3",
   "language": "python",
   "name": "python3"
  },
  "language_info": {
   "codemirror_mode": {
    "name": "ipython",
    "version": 3
   },
   "file_extension": ".py",
   "mimetype": "text/x-python",
   "name": "python",
   "nbconvert_exporter": "python",
   "pygments_lexer": "ipython3",
   "version": "3.9.0"
  }
 },
 "nbformat": 4,
 "nbformat_minor": 5
}
