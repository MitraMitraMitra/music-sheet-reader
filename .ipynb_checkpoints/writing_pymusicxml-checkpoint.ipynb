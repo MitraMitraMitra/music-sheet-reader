{
 "cells": [
  {
   "cell_type": "code",
   "execution_count": 9,
   "id": "suspended-hearing",
   "metadata": {},
   "outputs": [],
   "source": [
    "#  ++++++++++++++++++++++++++++++++++++++++++++++++++++++++++++++++++++++++++++++++++++++++++++  #\n",
    "#  This file is part of SCAMP (Suite for Computer-Assisted Music in Python)                      #\n",
    "#  Copyright © 2020 Marc Evanstein <marc@marcevanstein.com>.                                     #\n",
    "#                                                                                                #\n",
    "#  This program is free software: you can redistribute it and/or modify it under the terms of    #\n",
    "#  the GNU General Public License as published by the Free Software Foundation, either version   #\n",
    "#  3 of the License, or (at your option) any later version.                                      #\n",
    "#                                                                                                #\n",
    "#  This program is distributed in the hope that it will be useful, but WITHOUT ANY WARRANTY;     #\n",
    "#  without even the implied warranty of MERCHANTABILITY or FITNESS FOR A PARTICULAR PURPOSE.     #\n",
    "#  See the GNU General Public License for more details.                                          #\n",
    "#                                                                                                #\n",
    "#  You should have received a copy of the GNU General Public License along with this program.    #\n",
    "#  If not, see <http://www.gnu.org/licenses/>.                                                   #\n",
    "#  ++++++++++++++++++++++++++++++++++++++++++++++++++++++++++++++++++++++++++++++++++++++++++++  #"
   ]
  },
  {
   "cell_type": "code",
   "execution_count": 1,
   "id": "applicable-roots",
   "metadata": {},
   "outputs": [
    {
     "name": "stderr",
     "output_type": "stream",
     "text": [
      "<ipython-input-1-787cb29edf54>:1: TqdmExperimentalWarning: Using `tqdm.autonotebook.tqdm` in notebook mode. Use `tqdm.tqdm` instead to force console mode (e.g. in jupyter console)\n",
      "  from tqdm.autonotebook import tqdm\n"
     ]
    }
   ],
   "source": [
    "from tqdm.autonotebook import tqdm\n",
    "from pprint import pprint\n",
    "import numpy as np\n",
    "import os\n",
    "import torch\n",
    "import helper\n",
    "from PIL import Image\n",
    "import torch.nn as nn\n",
    "import torch.optim as optim\n",
    "import torch.utils.data as data\n",
    "import torchvision.transforms as transforms\n",
    "from torchvision import datasets, transforms\n",
    "from sklearn.metrics import classification_report\n",
    "\n",
    "from simple_classification_model import SimpleCNN"
   ]
  },
  {
   "cell_type": "code",
   "execution_count": 2,
   "id": "drawn-husband",
   "metadata": {},
   "outputs": [],
   "source": [
    "NUM_EPOCHS = 3\n",
    "BATCH_SIZE = 128\n",
    "lr = 0.001\n",
    "n_channels = 3\n",
    "n_classes = 9"
   ]
  },
  {
   "cell_type": "code",
   "execution_count": 3,
   "id": "convertible-canberra",
   "metadata": {},
   "outputs": [],
   "source": [
    "data_transform = transforms.Compose([transforms.Resize((150, 150)),\n",
    "    transforms.ToTensor(),\n",
    "    transforms.Normalize(mean=[.5], std=[.5])\n",
    "])"
   ]
  },
  {
   "cell_type": "code",
   "execution_count": 4,
   "id": "forced-rental",
   "metadata": {},
   "outputs": [
    {
     "data": {
      "text/plain": [
       "<All keys matched successfully>"
      ]
     },
     "execution_count": 4,
     "metadata": {},
     "output_type": "execute_result"
    }
   ],
   "source": [
    "model = SimpleCNN(in_channels=n_channels, num_classes=n_classes)\n",
    "model.load_state_dict(torch.load('model1'))"
   ]
  },
  {
   "cell_type": "code",
   "execution_count": 5,
   "id": "committed-moderator",
   "metadata": {},
   "outputs": [
    {
     "name": "stdout",
     "output_type": "stream",
     "text": [
      "119 images\n"
     ]
    }
   ],
   "source": [
    "d = {0: 'half note on line', 1: 'eighth note on line UP', 2: 'eighth note between lines DOWN', 3: 'quarter note on line', 4: 'quarter note between lines', 5: 'eighth note beamed', 6: 'half note between lines', 7: 'eighth note between lines UP', 8: 'eighth note on line DOWN'}\n",
    "\n",
    "PATH_TO_CROPPED_IMAGES = 'crop/'\n",
    "\n",
    "staves = []\n",
    "imageFiles = os.listdir(PATH_TO_CROPPED_IMAGES)\n",
    "print(len(imageFiles), 'images')\n",
    "for file in imageFiles:\n",
    "    image = Image.open(PATH_TO_CROPPED_IMAGES + '/' + file)\n",
    "    image = data_transform(image).unsqueeze(0)\n",
    "    result = np.argmax((np.array(model(image).softmax(1).detach().numpy())))\n",
    "    \n",
    "    staveNumber = int(file.split('_')[1])\n",
    "    if staveNumber > len(staves):\n",
    "        staves.append([])\n",
    "    staves[staveNumber - 1].append(d[result])"
   ]
  },
  {
   "cell_type": "code",
   "execution_count": 25,
   "id": "premium-lambda",
   "metadata": {},
   "outputs": [],
   "source": [
    "toWrite = []\n",
    "for stave in staves:\n",
    "    notes = []\n",
    "    for symbol in stave:\n",
    "        #print(symbol)\n",
    "        if symbol == 'half note on line':\n",
    "            notes.append(Note(\"g4\", 0.5))\n",
    "        elif symbol == 'eighth note beamed':\n",
    "            notes.append(Note(\"g4\", 0.25))\n",
    "        elif symbol == 'eighth note between lines UP' or symbol == 'eighth note between lines DOWN':\n",
    "            notes.append(Note(\"a4\", 0.25))\n",
    "        elif symbol == 'half note between lines':\n",
    "            notes.append(Note(\"a4\", 0.5))\n",
    "        elif symbol == 'half note on line':\n",
    "            notes.append(Note(\"g4\", 0.5))\n",
    "        elif symbol == 'eighth note on line UP' or symbol == 'eighth note on line DOWN':\n",
    "            notes.append(Note(\"g4\", 0.25))\n",
    "        elif symbol == 'quarter note on line':\n",
    "            notes.append(Note(\"g4\", 1))\n",
    "        elif symbol == 'quarter note between lines':\n",
    "            notes.append(Note(\"a4\", 1))\n",
    "        else:\n",
    "            print(symbol)\n",
    "    toWrite.append(Part(\"Piano\", [Measure(notes)]))\n",
    "            \n",
    "    #write_symbols([[(\"b4\", 0.25), (\"b4\", 1), (\"b4\", 1), (\"d5\", 1), (\"d5\", 1), (\"d5\", 1), (\"d5\", 1)]])"
   ]
  },
  {
   "cell_type": "code",
   "execution_count": 26,
   "id": "cooked-transfer",
   "metadata": {},
   "outputs": [],
   "source": [
    "S = Score(toWrite, title=\"Bachelor Paper\", composer=\"HTMLvis\")\n",
    "S.export_to_file(\"XML123.musicxml\")"
   ]
  },
  {
   "cell_type": "code",
   "execution_count": 13,
   "id": "active-vacuum",
   "metadata": {},
   "outputs": [],
   "source": [
    "from pymusicxml import *"
   ]
  },
  {
   "cell_type": "code",
   "execution_count": 46,
   "id": "continuous-apple",
   "metadata": {},
   "outputs": [],
   "source": [
    "def write_symbols(symbolsList):\n",
    "    measures = []\n",
    "    for measure in symbolsList:\n",
    "        measureToAppend = []\n",
    "        \n",
    "        for symbol in measure:\n",
    "            note = symbol[0]\n",
    "            duration = symbol[1]\n",
    "            #print(note, duration)\n",
    "            noteToAppend =  Note(note, duration)\n",
    "            measureToAppend.append(noteToAppend)\n",
    "            \n",
    "        measures.append(Measure(measureToAppend))\n",
    "                        \n",
    "    S = Score([Part(\"Piano\", measures), Part(\"Piano\", measures), Part(\"Piano\", measures)], title=\"Bachelor Paper\", composer=\"HTMLvis\")\n",
    "\n",
    "    S.export_to_file(\"XML123.musicxml\")"
   ]
  },
  {
   "cell_type": "code",
   "execution_count": 47,
   "id": "silent-liechtenstein",
   "metadata": {},
   "outputs": [],
   "source": [
    "write_symbols([[(\"b4\", 0.25), (\"b4\", 1), (\"b4\", 1), (\"d5\", 1), (\"d5\", 1), (\"d5\", 1), (\"d5\", 1)]])"
   ]
  },
  {
   "cell_type": "code",
   "execution_count": 13,
   "id": "several-failing",
   "metadata": {},
   "outputs": [],
   "source": [
    "write_symbols([[(\"b4\", 0.25), (\"b4\", 1), (\"b4\", 1)], [(\"d5\", 1), (\"d5\", 1), (\"d5\", 1), (\"d5\", 1)]])"
   ]
  }
 ],
 "metadata": {
  "kernelspec": {
   "display_name": "Python 3",
   "language": "python",
   "name": "python3"
  },
  "language_info": {
   "codemirror_mode": {
    "name": "ipython",
    "version": 3
   },
   "file_extension": ".py",
   "mimetype": "text/x-python",
   "name": "python",
   "nbconvert_exporter": "python",
   "pygments_lexer": "ipython3",
   "version": "3.9.0"
  }
 },
 "nbformat": 4,
 "nbformat_minor": 5
}
