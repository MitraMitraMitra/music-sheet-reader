{
 "cells": [
  {
   "cell_type": "code",
   "execution_count": null,
   "metadata": {},
   "outputs": [],
   "source": [
    "from PIL import Image, ImageDraw, ImageOps\n",
    "import random\n",
    "from os import system, name\n",
    "import math\n",
    "import numpy as np\n",
    "import matplotlib.pyplot as plt\n",
    "from skimage.filters import threshold_otsu\n",
    "from skimage.transform import hough_line, hough_line_peaks\n",
    "import copy\n",
    "from matplotlib.pyplot import figure"
   ]
  },
  {
   "cell_type": "code",
   "execution_count": null,
   "metadata": {},
   "outputs": [],
   "source": [
    "def show_image(data, transpose = False):\n",
    "    if transpose == True:\n",
    "        im = Image.fromarray(data.transpose())\n",
    "    else:\n",
    "        im = Image.fromarray(data)\n",
    "    new_im = im.convert('RGB')\n",
    "    new_im.show()"
   ]
  },
  {
   "cell_type": "code",
   "execution_count": null,
   "metadata": {},
   "outputs": [],
   "source": [
    "def rgb_to_grayscale(pixel):\n",
    "    result = (0.2126 * pixel[0] + 0.7152 * pixel[1] + 0.0722 * pixel[2])\n",
    "    return result"
   ]
  },
  {
   "cell_type": "code",
   "execution_count": null,
   "metadata": {},
   "outputs": [],
   "source": [
    "def convert_binary(data, thresh, b):\n",
    "    if b == 1:\n",
    "        converted = np.where(data_grayscale < thresh, 255, 0)\n",
    "    else:\n",
    "        converted = np.where(data_grayscale < thresh, 0, 255)\n",
    "    replacements = np.unique(converted, return_counts = True)\n",
    "    return converted, replacements"
   ]
  },
  {
   "cell_type": "code",
   "execution_count": null,
   "metadata": {
    "pycharm": {
     "name": "#%%\n"
    }
   },
   "outputs": [],
   "source": [
    "def count_neighbours(pixelsArray, xCoordinate, yCoordinate):\n",
    "    neighbours = []\n",
    "    for i in range(-1, 2):\n",
    "        for j in range(-1, 2):\n",
    "            if i != 0 or j != 0:\n",
    "                neighbours.append(int(pixelsArray[xCoordinate + i][yCoordinate + j] / 255))\n",
    "                #neighbours.append((xCoordinate + i,yCoordinate + j,int(pixelsSet[xCoordinate + i, yCoordinate + j] / 255)))\n",
    "    return neighbours"
   ]
  },
  {
   "cell_type": "code",
   "execution_count": null,
   "metadata": {},
   "outputs": [],
   "source": [
    "def follow_line(pixelsArray, startingPixel, width, acceptableLength):\n",
    "    start = startingPixel[0]\n",
    "    length = 0 \n",
    "    intersectionPoints = []\n",
    "    last10LevelsIncreases = []\n",
    "    i = 0\n",
    "    thePixels = []\n",
    "    \n",
    "    while startingPixel[0] < width - 1 and -3 < sum(last10LevelsIncreases) < 3:\n",
    "        toAddLater = []\n",
    "        \n",
    "        #print(\"Now at\",startingPixel)\n",
    "        #print(\"last10LevelsIncreases is\",last10LevelsIncreases)\n",
    "        #print(\"\")\n",
    "        thePixels.append(startingPixel)\n",
    "        # HERE WE LOOK FOR THE CLOSEST PIXEL TO THE RIGHT THAT\n",
    "        # IS NOT OUTSIDE THE IMAGE\n",
    "        # IS A BLACK PIXEL\n",
    "        # IS AT AN ACCEPTABLE DISTANCE \n",
    "        i = 1\n",
    "        while i <= acceptableLength and startingPixel[0] + i < width and pixelsArray[startingPixel[0] + i, startingPixel[1]] != 0:\n",
    "            toAddLater.append((startingPixel[0] + i, startingPixel[1]))\n",
    "            i = i + 1\n",
    "            \n",
    "        if pixelsArray[startingPixel[0] + i][startingPixel[1]] == 0:\n",
    "            startingPixel = (startingPixel[0] + i, startingPixel[1])\n",
    "            thePixels = thePixels + toAddLater\n",
    "            if len(toAddLater) > 0:\n",
    "                for point in toAddLater:\n",
    "                    last10LevelsIncreases.append(0)\n",
    "                    if len(last10LevelsIncreases) > 10:\n",
    "                        last10LevelsIncreases = last10LevelsIncreases[1:]\n",
    "            else:\n",
    "                last10LevelsIncreases.append(0)\n",
    "                if len(last10LevelsIncreases) > 10:\n",
    "                    last10LevelsIncreases = last10LevelsIncreases[1:]\n",
    "                \n",
    "            #length = length + 1\n",
    "\n",
    "        else:\n",
    "            \n",
    "            alternatives = []\n",
    "\n",
    "            # HERE WE CHECK IF THERE IS A BLACK PIXEL ABOVE AND AT THE ACCEPTABLE DISTANCE TO THE RIGHT\n",
    "            i = 1\n",
    "            while i <= acceptableLength and pixelsArray[startingPixel[0] + i][startingPixel[1] - 1] != 0:\n",
    "                i = i + 1\n",
    "            if pixelsArray[startingPixel[0] + i][startingPixel[1] - 1] == 0 and sum(last10LevelsIncreases) < 2:\n",
    "                alternatives.append((startingPixel[0] + i, startingPixel[1] - 1, 1))\n",
    "\n",
    "            # HERE WE CHECK IF THERE IS A BLACK PIXEL BELOW AND AT THE ACCEPTABLE DISTANCE TO THE RIGHT\n",
    "            i = 1\n",
    "            while i <= acceptableLength and pixelsArray[startingPixel[0] + i][startingPixel[1] + 1] != 0:\n",
    "                i = i + 1\n",
    "            if pixelsArray[startingPixel[0] + i][startingPixel[1] + 1] == 0 and -2 < sum(last10LevelsIncreases):\n",
    "                alternatives.append((startingPixel[0] + i, startingPixel[1] + 1, -1))\n",
    "                \n",
    "            if len(alternatives) > 0:\n",
    "                \n",
    "                if len(alternatives) == 2:\n",
    "                    intersectionPoints.append((startingPixel, alternatives[1], last10LevelsIncreases))\n",
    "                startingPixel = (alternatives[0][0], alternatives[0][1])\n",
    "                last10LevelsIncreases.append(alternatives[0][2])\n",
    "                if len(last10LevelsIncreases) > 10:\n",
    "                    last10LevelsIncreases = last10LevelsIncreases[1:]\n",
    "\n",
    "                #length = length + 1\n",
    "            elif len(intersectionPoints) > 0:\n",
    "                startingPixel = (intersectionPoints[-1][1][0], intersectionPoints[-1][1][1])\n",
    "                last10LevelsIncreases.append(intersectionPoints[-1][1][2])\n",
    "                intersectionPoints = intersectionPoints[0:-1]\n",
    "                if len(last10LevelsIncreases) > 10:\n",
    "                    last10LevelsIncreases = last10LevelsIncreases[1:]\n",
    "            else:\n",
    "                break\n",
    "    \n",
    "    #print(\"last10LevelsIncreases in the end is\",last10LevelsIncreases)\n",
    "    end = startingPixel[0]\n",
    "    return thePixels, end - start"
   ]
  },
  {
   "cell_type": "code",
   "execution_count": null,
   "metadata": {
    "pycharm": {
     "name": "#%%\n"
    }
   },
   "outputs": [],
   "source": [
    "def turning_pixels_white(pixelsArray, height, width, numberOfDarkNeighbours, lr = False):\n",
    "    turnedWhite = []\n",
    "    # TURNING ALL PIXELS WITH NO BLACK NEIGHBORS WHITE\n",
    "    for j in range(1, height - 1):\n",
    "        for i in range(1, width - 1):\n",
    "            neighbours = count_neighbours(pixelsArray, i, j)\n",
    "            # CHECKING IF THE POINT IS BLACK\n",
    "            if pixelsArray[i][j] == 0:\n",
    "                # CHECKING IF IT HAS LESS THAN 2 BLACK NEIGHBOURS\n",
    "                if numberOfDarkNeighbours[0] <= 8 - sum(neighbours) <= numberOfDarkNeighbours[1]:\n",
    "                #if sum(neighbours) == 8:\n",
    "                    pixelsArray[i][j] = 255\n",
    "                    turnedWhite.append((i, j))\n",
    "                    \n",
    "                    # IF A PIXEL HAS BEEN TURNED BLACK, WE THEN CHECK IF lr IS TRUE,\n",
    "                    # IN ORDER TO KNOW IF WE SHOULD CHECK FOR THE LEFT-RIGHT AND UP-DOWN PAIRS\n",
    "                    # MORE EXACTLY, IF THE PIXELS TO THE LEFT AND TO THE RIGHT (OR ABOVE AND BELOW) ARE BOTH DARK,\n",
    "                    # THE PIXEL THAT WAS TURNED WHITE HAS TO BE TURNED BACK TO BLACK,\n",
    "                    # BECAUSE IT IS LIKELY THAT IT WAS PART OF A LINE\n",
    "                    if lr == True:\n",
    "                        if (pixelsArray[i - 1][j] == 0 and pixelsArray[i + 1][j] == 0) or (pixelsArray[i][j - 1] == 0 and pixelsArray[i][j + 1] == 0):\n",
    "                            pixelsArray[i][j] = 0\n",
    "    return turnedWhite"
   ]
  },
  {
   "cell_type": "code",
   "execution_count": null,
   "metadata": {
    "pycharm": {
     "name": "#%%\n"
    }
   },
   "outputs": [],
   "source": [
    "def turning_pixels_black(pixelsArray, height, width, lr = False):\n",
    "    turnedBlack = []\n",
    "    # TURNING ALL PIXELS WITH MORE THAN 6 BLACK NEIGHBOURS BLACK\n",
    "    for j in range(1, height - 1):\n",
    "        for i in range(1, width - 1):\n",
    "            neighbours = count_neighbours(pixelsArray, i, j)\n",
    "            # CHECKING IF THE POINT IS WHITE\n",
    "            if pixelsArray[i][j] == 255:\n",
    "                if 8 - sum(neighbours) > 6:\n",
    "                    pixelsArray[i][j] = 0\n",
    "                    turnedBlack.append((i, j))\n",
    "                    #turnedBlack = turnedBlack + 1\n",
    "                # HERE WE CHECK IF THE ABOVE AND BELOW PIXELS ARE BOTH BLACK\n",
    "                # OR\n",
    "                # THE PIXELS TO THE LEFT AND TO THE RIGHT ARE BOTH BLACK\n",
    "                elif lr == True:\n",
    "                    if neighbours[3] + neighbours[4] == 0 or neighbours[1] + neighbours[6] == 0:\n",
    "                        pixelsArray[i][j] = 0\n",
    "                        turnedBlack.append((i, j))\n",
    "    return turnedBlack"
   ]
  },
  {
   "cell_type": "code",
   "execution_count": null,
   "metadata": {
    "pycharm": {
     "name": "#%%\n"
    }
   },
   "outputs": [],
   "source": [
    "def count_pixels(pixelsArray, height, width):\n",
    "    BlackPixels = []\n",
    "    WhitePixels = []\n",
    "    for j in range(0, height):\n",
    "        for i in range(0, width):\n",
    "            #print(pixelsArray[i][j])\n",
    "            if pixelsArray[i][j] == 0:\n",
    "                BlackPixels.append((i, j))\n",
    "            else:\n",
    "                WhitePixels.append((i, j))\n",
    "    return BlackPixels, WhitePixels"
   ]
  },
  {
   "cell_type": "code",
   "execution_count": null,
   "metadata": {},
   "outputs": [],
   "source": [
    "def find_lines(pixelsArray, blackPixelsArray, width, AL):\n",
    "    startingPoints = []\n",
    "    heights = list(set([i[1] for i in blackPixelsArray]))\n",
    "    for i in heights:\n",
    "        j = 0\n",
    "        while pixelsArray[j][i] == 255:\n",
    "            j = j + 1\n",
    "        startingPoints.append((j, i))\n",
    "\n",
    "    plPairs = []\n",
    "    #print('number of starting points:', len(startingPoints))\n",
    "    for i in startingPoints[0:-1]:\n",
    "        p, length = follow_line(pixelsArray, (i[0] + int(width / 20), i[1]), width, AL)\n",
    "        plPairs.append((p, length))\n",
    "    return startingPoints, plPairs"
   ]
  },
  {
   "cell_type": "code",
   "execution_count": null,
   "metadata": {},
   "outputs": [],
   "source": [
    "def find_region(startingPoint, pixelsArray, commonValue):\n",
    "    width = pixelsArray.shape[1]\n",
    "    height = pixelsArray.shape[0]\n",
    "    verticalStartingPoints = []\n",
    "    regionPoints = []\n",
    "    x = startingPoint[1]\n",
    "    y = startingPoint[0]\n",
    "    #verticalStartingPoints.append((y, x))\n",
    "    while x > 0 and pixelsArray[y][x] == commonValue:\n",
    "        verticalStartingPoints.append((y, x))\n",
    "        x = x - 1\n",
    "    if len(verticalStartingPoints) < 2:\n",
    "        while x < width - 1 and pixelsArray[y][x] == commonValue:\n",
    "            verticalStartingPoints.append((y, x))\n",
    "            x = x + 1\n",
    "            \n",
    "    for point in verticalStartingPoints:\n",
    "        x = point[1]\n",
    "        y = point[0]\n",
    "        if point[0] == 0:\n",
    "            while y < width and pixelsArray[y][x] == commonValue:\n",
    "                regionPoints.append((y, x))\n",
    "                y = y + 1\n",
    "        else:\n",
    "            while y > -1 and pixelsArray[y][x] == commonValue:\n",
    "                regionPoints.append((y, x))\n",
    "                y = y - 1\n",
    "    \n",
    "    #return verticalStartingPoints\n",
    "    return regionPoints"
   ]
  },
  {
   "cell_type": "code",
   "execution_count": null,
   "metadata": {
    "pycharm": {
     "name": "#%%\n"
    }
   },
   "outputs": [],
   "source": [
    "def cluster_lines(lines, N):\n",
    "    clusters = []\n",
    "    while len(lines) > 0:\n",
    "        \n",
    "        # same WILL CONTAIN LINES THAT SHOULD BE MERGED\n",
    "        same = [lines[0]]\n",
    "        \n",
    "        # ITERATING THROUGH THE SET OF LINES TO SEE IF ANY OF THEM SHOULD BE MERGED WITH A LINE FROM same\n",
    "        index1 = 0\n",
    "        while index1 < len(lines):\n",
    "            \n",
    "            #print('now at line', index1, 'in the list of lines')\n",
    "            \n",
    "            # ITERATING THROUGH THE LIST OF LINES THAT HAVE TO BE MERGED (same)\n",
    "            index2 = 0\n",
    "            while index2 < len(same):\n",
    "                \n",
    "                #print('now at line', index2, 'in same')\n",
    "                #print('now going to compare', lines[index1][2], 'with', same[index2][2])\n",
    "                # CHECKING IF THE STARTING POINT OF TWO LINES DIIFER IN HEIGHT BY LESS THAN N PIXELS\n",
    "                if lines[index1] != same[index2] and abs(lines[index1][0][int(len(lines[index1][0]) / 2)][1] - same[index2][0][int(len(same[index2][0]) / 2)][1]) < N and lines[index1] not in same:\n",
    "                    #print('now going to append the line with ID', lines[index1][2])\n",
    "                    same.append(lines[index1])\n",
    "                index2 = index2 + 1\n",
    "            index1 = index1 + 1\n",
    "            \n",
    "        if len(same) > 1:\n",
    "            clusters.append(same)\n",
    "            \n",
    "        lines = [i for i in lines if i not in same]\n",
    "    return clusters"
   ]
  },
  {
   "cell_type": "code",
   "execution_count": null,
   "metadata": {
    "pycharm": {
     "name": "#%%\n"
    }
   },
   "outputs": [],
   "source": [
    "def average_between_lines(lines):\n",
    "    #print('I have to merge', len(lines), 'lines')\n",
    "    if len(lines) > 1:\n",
    "        averagePoints = []\n",
    "        points = []\n",
    "        for line in lines:\n",
    "            points = points + line[0]\n",
    "        minX = min(points, key = lambda item: item[0])[0]\n",
    "        maxX = max(points, key = lambda item: item[0])[0]\n",
    "        for x in range(minX, maxX):\n",
    "            pointsX = [i for i in points if i[0] == x]\n",
    "            if len(pointsX) > 0:\n",
    "                sumX = sum(i[1] for i in pointsX)\n",
    "                averagePoints.append((x, int(sumX / len(pointsX))))\n",
    "        return averagePoints\n",
    "    else:\n",
    "        print(\"THE ARGUMENT OF THE FUNCTION average_between_lines SHOULD BE A LIST OF LENGTH > 1\")"
   ]
  },
  {
   "cell_type": "code",
   "execution_count": null,
   "metadata": {},
   "outputs": [],
   "source": [
    "def averageDistance(lines):\n",
    "    #print(len(lines))\n",
    "    # INITIALIZING THE EMPTY LIST THAT WILL CONTAIN THE ARRAYS\n",
    "    # MADE OF DIFFERENCES BETWEEN THE Y COORDINATES OF PIXELS FROM CONSECUTIVE LINES\n",
    "    distances = []\n",
    "    \n",
    "    # INITIALIZING THE EMPTY SET THAT WILL CONTAIN ALL THE COMMON X COORDINATES OF ALL THE LINES IN THE CLUSTER (STAVE)\n",
    "    commonX = set([])\n",
    "    \n",
    "    for line in lines:\n",
    "        \n",
    "        # STORING ALL THE X COORDINATES OF THE PIXELS MAKING UP THE LINE\n",
    "        setX = set([i[0] for i in line])\n",
    "        \n",
    "        # WE ONLY KEEP THE X COORDINATES THAT ARE IN ALL LINES IN THE CLUSTER\n",
    "        if len(commonX) > 0:\n",
    "            commonX = commonX.intersection(setX)\n",
    "        else:\n",
    "            commonX = setX\n",
    "    \n",
    "    for i in range(0, len(lines) - 1):\n",
    "\n",
    "        y1 = np.array([i[1] for i in lines[i] if i[0] in commonX])\n",
    "        y2 = np.array([i[1] for i in lines[i + 1] if i[0] in commonX])\n",
    "\n",
    "        distances.append(np.subtract(y2, y1))\n",
    "    \n",
    "    arr = np.array(distances, dtype=object)\n",
    "    \n",
    "    #print(len(distances))\n",
    "    \n",
    "    return commonX, arr.sum(axis = 0) / arr.shape[0]"
   ]
  },
  {
   "cell_type": "code",
   "execution_count": null,
   "metadata": {},
   "outputs": [],
   "source": [
    "def check_if_in_borders(line):\n",
    "    if min(line, key = lambda item: item[1])[1] > 0 and max(line, key = lambda item: item[1])[1] < height - 1:\n",
    "        return True\n",
    "    else:\n",
    "        return False"
   ]
  },
  {
   "cell_type": "code",
   "execution_count": null,
   "metadata": {},
   "outputs": [],
   "source": [
    "def count_dark_pixels_between_points(pointAbove, pointBelow, maximumBrightness, linesToIgnore = None):\n",
    "    global pixels2\n",
    "    count = 0\n",
    "    \n",
    "    pixelsToIgnore = []\n",
    "    for line in linesToIgnore:\n",
    "        pixelsToIgnore = pixelsToIgnore + line\n",
    "        \n",
    "    pixelsInRange = [point[1] for point in pixelsToIgnore if point[0] == pointAbove[0] and pointAbove[1] <= point[1] <= pointBelow[1]]\n",
    "    \n",
    "    for i in range(pointAbove[1] + 1, pointBelow[1]):\n",
    "        if i not in pixelsInRange and sum(pixels2[pointAbove[0], i]) <= maximumBrightness:\n",
    "                        count = count + 1\n",
    "    \n",
    "    return count"
   ]
  },
  {
   "cell_type": "code",
   "execution_count": null,
   "metadata": {},
   "outputs": [],
   "source": [
    "def count_dark_pixels_between_points1(pixelsArray, pointAbove, pointBelow):\n",
    "    pixelsArray[pointBelow[1]][pointBelow[0]][pointAbove[1]][pointAbove[0]]\n",
    "    return"
   ]
  },
  {
   "cell_type": "markdown",
   "metadata": {},
   "source": [
    "## opening the image and converting to an array ##"
   ]
  },
  {
   "cell_type": "code",
   "execution_count": null,
   "metadata": {},
   "outputs": [],
   "source": [
    "imageFile = 'TREE.png'\n",
    "img = Image.open(imageFile)\n",
    "pixelsTEST = img.load()\n",
    "if str(type(pixelsTEST[0, 0])) == \"<class 'int'>\":\n",
    "    img = img.convert(\"RGBA\")\n",
    "data = np.asarray(img)\n"
   ]
  },
  {
   "cell_type": "markdown",
   "metadata": {},
   "source": [
    "## viewing the image ##"
   ]
  },
  {
   "cell_type": "code",
   "execution_count": null,
   "metadata": {},
   "outputs": [],
   "source": [
    "fig = plt.figure(figsize = (10, 10))\n",
    "ax = fig.add_subplot(111)\n",
    "ax.set_title(imageFile)\n",
    "plt.imshow(data)"
   ]
  },
  {
   "cell_type": "markdown",
   "metadata": {},
   "source": [
    "## converting to grayscale ##"
   ]
  },
  {
   "cell_type": "code",
   "execution_count": null,
   "metadata": {},
   "outputs": [],
   "source": [
    "grayPixelsList = []\n",
    "for i in range(0, data.shape[0]):\n",
    "    grayPixels =  [rgb_to_grayscale(pixel) for pixel in data[i]]\n",
    "    grayPixelsList.append(grayPixels)\n",
    "\n",
    "data_grayscale = np.array(grayPixelsList)"
   ]
  },
  {
   "cell_type": "markdown",
   "metadata": {},
   "source": [
    "## viewing the greyscale image ##"
   ]
  },
  {
   "cell_type": "code",
   "execution_count": null,
   "metadata": {},
   "outputs": [],
   "source": [
    "show_image(data_grayscale)"
   ]
  },
  {
   "cell_type": "code",
   "execution_count": null,
   "metadata": {},
   "outputs": [],
   "source": [
    "# saving\n",
    "im = Image.fromarray(data_grayscale)\n",
    "new_im = im.convert('RGB')\n",
    "new_im.save('grayscale.png')"
   ]
  },
  {
   "cell_type": "code",
   "execution_count": null,
   "metadata": {},
   "outputs": [],
   "source": [
    "height = data_grayscale.shape[0]\n",
    "width = data_grayscale.shape[1]\n",
    "print('height = ', height)\n",
    "print('width = ', width)"
   ]
  },
  {
   "cell_type": "markdown",
   "metadata": {},
   "source": [
    "## calculating the threshold using Otsu's method ##"
   ]
  },
  {
   "cell_type": "code",
   "execution_count": null,
   "metadata": {
    "scrolled": true
   },
   "outputs": [],
   "source": [
    "thresh = threshold_otsu(data_grayscale)\n",
    "print('calculated threshold', thresh)"
   ]
  },
  {
   "cell_type": "markdown",
   "metadata": {},
   "source": [
    "## converting to black and white, based on the calculated threshold ##"
   ]
  },
  {
   "cell_type": "code",
   "execution_count": null,
   "metadata": {},
   "outputs": [],
   "source": [
    "data_binary, count = convert_binary(data_grayscale, thresh, 0)\n",
    "print('After conversion, there are', count[1][0], 'BLACK pixels and', count[1][1], 'WHITE pixels')"
   ]
  },
  {
   "cell_type": "code",
   "execution_count": null,
   "metadata": {},
   "outputs": [],
   "source": [
    "# saving\n",
    "im = Image.fromarray(data_binary)\n",
    "new_im = im.convert('RGB')\n",
    "new_im.save('black_and_white.png')"
   ]
  },
  {
   "cell_type": "markdown",
   "metadata": {},
   "source": [
    "## transposing the array, so that columns and rows are switched ##"
   ]
  },
  {
   "cell_type": "code",
   "execution_count": null,
   "metadata": {},
   "outputs": [],
   "source": [
    "print(height, width)\n",
    "data_binary = data_binary.transpose()"
   ]
  },
  {
   "cell_type": "markdown",
   "metadata": {},
   "source": [
    "## viewing the image after transposing ##"
   ]
  },
  {
   "cell_type": "code",
   "execution_count": null,
   "metadata": {},
   "outputs": [],
   "source": [
    "show_image(data_binary)"
   ]
  },
  {
   "cell_type": "code",
   "execution_count": null,
   "metadata": {},
   "outputs": [],
   "source": [
    "imageArray = data_binary"
   ]
  },
  {
   "cell_type": "code",
   "execution_count": null,
   "metadata": {},
   "outputs": [],
   "source": [
    "rotatedImageArrayGrayscale = None"
   ]
  },
  {
   "cell_type": "markdown",
   "metadata": {},
   "source": [
    "## reloading the image  - ONLY RUN AFTER ROTATING THE IMAGE ##"
   ]
  },
  {
   "cell_type": "code",
   "execution_count": null,
   "metadata": {},
   "outputs": [],
   "source": [
    "imageArray = rotatedImageArrayGrayscale"
   ]
  },
  {
   "cell_type": "markdown",
   "metadata": {},
   "source": [
    "## counting the pixels by colour ##"
   ]
  },
  {
   "cell_type": "code",
   "execution_count": null,
   "metadata": {},
   "outputs": [],
   "source": [
    "result = np.unique(imageArray, return_counts = True)\n",
    "print(result, result[1][0] + result[1][1])"
   ]
  },
  {
   "cell_type": "code",
   "execution_count": null,
   "metadata": {},
   "outputs": [],
   "source": [
    "BlackPixels, WhitePixels = count_pixels(imageArray, height, width)\n",
    "#print('There are')\n",
    "print('black pixels:', len(BlackPixels))\n",
    "print('white pixels:', len(WhitePixels))\n",
    "print('Total:', len(BlackPixels) + len(WhitePixels))"
   ]
  },
  {
   "cell_type": "markdown",
   "metadata": {},
   "source": [
    "## searching for lines, starting at the left-most black pixel of each line *that contains black pixels* ##"
   ]
  },
  {
   "cell_type": "code",
   "execution_count": null,
   "metadata": {},
   "outputs": [],
   "source": [
    "if str(type(rotatedImageArrayGrayscale)) == \"<class 'NoneType'>\":\n",
    "    ACCEPTABLE_LENGTH = int(0.01 * width)\n",
    "else:\n",
    "    ACCEPTABLE_LENGTH = int(0.005 * width)\n",
    "startingPoints, HorizontalLines = find_lines(imageArray, BlackPixels, width, ACCEPTABLE_LENGTH)\n",
    "print('number of starting points:', len(startingPoints))"
   ]
  },
  {
   "cell_type": "markdown",
   "metadata": {},
   "source": [
    "## here we check how many lines were found ##"
   ]
  },
  {
   "cell_type": "code",
   "execution_count": null,
   "metadata": {},
   "outputs": [],
   "source": [
    "longHorizontalLines = []\n",
    "minimumLength = int(0.15 * width)\n",
    "for i in HorizontalLines:\n",
    "    if i[1] >= minimumLength:\n",
    "        longHorizontalLines.append(i)\n",
    "print('number of lines found:', len(HorizontalLines))\n",
    "print('number of lines longer than the minimum length (', minimumLength, ' pixels): ', len(longHorizontalLines), sep = '')"
   ]
  },
  {
   "cell_type": "markdown",
   "metadata": {},
   "source": [
    "## converting the array to an image ##"
   ]
  },
  {
   "cell_type": "code",
   "execution_count": null,
   "metadata": {},
   "outputs": [],
   "source": [
    "im = Image.fromarray(imageArray.transpose())\n",
    "new_im = im.convert('RGB')\n",
    "img2 = copy.deepcopy(new_im)\n",
    "d2 = ImageDraw.Draw(img2)\n",
    "pixels2 = img2.load()"
   ]
  },
  {
   "cell_type": "markdown",
   "metadata": {},
   "source": [
    "## colouring the starting points and the detected lines with red and blue ##"
   ]
  },
  {
   "cell_type": "code",
   "execution_count": null,
   "metadata": {},
   "outputs": [],
   "source": [
    "for point in startingPoints:\n",
    "    pixels2[point[0], point[1]] = (255, 0, 0)\n",
    "for line in longHorizontalLines:\n",
    "    for point in line[0]:\n",
    "        pixels2[point[0], point[1]] = (0, 0, 255)"
   ]
  },
  {
   "cell_type": "markdown",
   "metadata": {},
   "source": [
    "## viewing the image ##"
   ]
  },
  {
   "cell_type": "code",
   "execution_count": null,
   "metadata": {},
   "outputs": [],
   "source": [
    "img2.show()"
   ]
  },
  {
   "cell_type": "markdown",
   "metadata": {},
   "source": [
    "## detecting the angle of rotation ##"
   ]
  },
  {
   "cell_type": "code",
   "execution_count": null,
   "metadata": {},
   "outputs": [],
   "source": [
    "# here we select the longest line and print its distance\n",
    "longestLine = max(HorizontalLines, key = lambda item:item[1])\n",
    "print('the longest line has', longestLine[1], 'pixels')\n",
    "\n",
    "dx = longestLine[0][-1][0] - longestLine[0][0][0]\n",
    "dy = longestLine[0][-1][1] - longestLine[0][0][1]\n",
    "tangent = dy / dx\n",
    "rotationAngle = math.atan(tangent) * 180 / math.pi\n",
    "print('tangent:', tangent)\n",
    "print('angle:', rotationAngle)"
   ]
  },
  {
   "cell_type": "markdown",
   "metadata": {},
   "source": [
    "## rotating the image by the rotation angle ##"
   ]
  },
  {
   "cell_type": "code",
   "execution_count": null,
   "metadata": {},
   "outputs": [],
   "source": [
    "# TO RUN ONLY IF NOT SATISFIED WITH THE ANGLE\n",
    "rotatedImage = new_im.rotate(rotationAngle)"
   ]
  },
  {
   "cell_type": "markdown",
   "metadata": {},
   "source": [
    "## viewing the rotated image ##"
   ]
  },
  {
   "cell_type": "code",
   "execution_count": null,
   "metadata": {},
   "outputs": [],
   "source": [
    "rotatedImage.show()\n",
    "rotatedImage.save('rotated_1.png')"
   ]
  },
  {
   "cell_type": "markdown",
   "metadata": {},
   "source": [
    "## converting the rotated image to an array of 0 and 255 ##"
   ]
  },
  {
   "cell_type": "code",
   "execution_count": null,
   "metadata": {},
   "outputs": [],
   "source": [
    "rotatedImageArray = np.array(rotatedImage)\n",
    "\n",
    "grayPixelsList = []\n",
    "for i in range(0, rotatedImageArray.shape[0]):\n",
    "    grayPixels =  [pixel[0] for pixel in rotatedImageArray[i]]\n",
    "    grayPixelsList.append(grayPixels)\n",
    "\n",
    "rotatedImageArrayGrayscale = np.array(grayPixelsList)"
   ]
  },
  {
   "cell_type": "code",
   "execution_count": null,
   "metadata": {},
   "outputs": [],
   "source": [
    "width = rotatedImageArrayGrayscale.shape[1]\n",
    "height = rotatedImageArrayGrayscale.shape[0]"
   ]
  },
  {
   "cell_type": "markdown",
   "metadata": {},
   "source": [
    "## detecting the dark regions in the four corners, created by the rotation of the image ##"
   ]
  },
  {
   "cell_type": "code",
   "execution_count": null,
   "metadata": {},
   "outputs": [],
   "source": [
    "blackRegions = []\n",
    "blackRegions.append(find_region((0, width - 1), rotatedImageArrayGrayscale, 0))\n",
    "blackRegions.append(find_region((0, 0), rotatedImageArrayGrayscale, 0))\n",
    "blackRegions.append(find_region((height - 1, 0), rotatedImageArrayGrayscale, 0))\n",
    "blackRegions.append(find_region((height - 1, width - 1), rotatedImageArrayGrayscale, 0))"
   ]
  },
  {
   "cell_type": "markdown",
   "metadata": {},
   "source": [
    "## turning the points in the dark regions white ##"
   ]
  },
  {
   "cell_type": "code",
   "execution_count": null,
   "metadata": {},
   "outputs": [],
   "source": [
    "for region in blackRegions:\n",
    "    for point in region:\n",
    "        rotatedImageArrayGrayscale[point[0]][point[1]] = 255"
   ]
  },
  {
   "cell_type": "markdown",
   "metadata": {},
   "source": [
    "## viewing the rotated image with the dark regions removed ##"
   ]
  },
  {
   "cell_type": "code",
   "execution_count": null,
   "metadata": {},
   "outputs": [],
   "source": [
    "show_image(rotatedImageArrayGrayscale)"
   ]
  },
  {
   "cell_type": "code",
   "execution_count": null,
   "metadata": {},
   "outputs": [],
   "source": [
    "height = rotatedImageArrayGrayscale.shape[0]\n",
    "width = rotatedImageArrayGrayscale.shape[1]\n",
    "print('height = ', height)\n",
    "print('width = ', width)"
   ]
  },
  {
   "cell_type": "code",
   "execution_count": null,
   "metadata": {},
   "outputs": [],
   "source": [
    "rotatedImageArrayGrayscale = rotatedImageArrayGrayscale.transpose()"
   ]
  },
  {
   "cell_type": "code",
   "execution_count": null,
   "metadata": {},
   "outputs": [],
   "source": [
    "show_image(rotatedImageArrayGrayscale, transpose = True)"
   ]
  },
  {
   "cell_type": "code",
   "execution_count": null,
   "metadata": {},
   "outputs": [],
   "source": [
    "# saving\n",
    "im = Image.fromarray(rotatedImageArrayGrayscale.transpose())\n",
    "new_im = im.convert('RGB')\n",
    "new_im.save('rotated_2.png')"
   ]
  },
  {
   "cell_type": "markdown",
   "metadata": {},
   "source": [
    "## filtering for lines that are at a distance of at least 5% from the top border ##"
   ]
  },
  {
   "cell_type": "code",
   "execution_count": null,
   "metadata": {},
   "outputs": [],
   "source": [
    "longHorizontalLines = [line for line in longHorizontalLines if line[0][0][1] > 0.05 * height]"
   ]
  },
  {
   "cell_type": "markdown",
   "metadata": {},
   "source": [
    "## grouping long lines that are very close to each other ##"
   ]
  },
  {
   "cell_type": "code",
   "execution_count": null,
   "metadata": {},
   "outputs": [],
   "source": [
    "clusteredLongHorizontalLines = cluster_lines(longHorizontalLines, 4)"
   ]
  },
  {
   "cell_type": "markdown",
   "metadata": {},
   "source": [
    "## storing the points separately ##"
   ]
  },
  {
   "cell_type": "code",
   "execution_count": null,
   "metadata": {},
   "outputs": [],
   "source": [
    "longHorizontalLinesPoints = []\n",
    "for line in longHorizontalLines:\n",
    "    for point in line[0]:\n",
    "        longHorizontalLinesPoints.append(point)"
   ]
  },
  {
   "cell_type": "markdown",
   "metadata": {},
   "source": [
    "## viewing the line count by cluster ##"
   ]
  },
  {
   "cell_type": "code",
   "execution_count": null,
   "metadata": {},
   "outputs": [],
   "source": [
    "%matplotlib inline\n",
    "clusterSize = [len(cluster) for cluster in clusteredLongHorizontalLines]\n",
    "x_pos = list(np.arange(0, len(clusterSize), 1))\n",
    "plt.bar(x_pos, clusterSize)\n",
    "plt.xticks(x_pos)\n",
    "\n",
    "plt.gcf().set_size_inches((13, 5))\n",
    "#plt.figure(figsize=(1, 2)) \n",
    "\n",
    "plt.show()"
   ]
  },
  {
   "cell_type": "markdown",
   "metadata": {},
   "source": [
    "## merging each of the found groups into one line  ##"
   ]
  },
  {
   "cell_type": "code",
   "execution_count": null,
   "metadata": {},
   "outputs": [],
   "source": [
    "mergedLongHorizontalLines = []\n",
    "index = 0\n",
    "for cluster in clusteredLongHorizontalLines:\n",
    "    #print('now at index', index)\n",
    "    mergedLongHorizontalLines.append(average_between_lines(cluster))\n",
    "    index = index + 1"
   ]
  },
  {
   "cell_type": "code",
   "execution_count": null,
   "metadata": {},
   "outputs": [],
   "source": [
    "goodLinesPoints = []\n",
    "for line in mergedLongHorizontalLines:\n",
    "    goodLinesPoints = goodLinesPoints + [point for point in line]\n",
    "\n",
    "badLinesPoints = set(longHorizontalLinesPoints) - set(goodLinesPoints)\n",
    "print(len(badLinesPoints), len(goodLinesPoints))\n",
    "print('intersection', len(set(badLinesPoints).intersection(goodLinesPoints)))\n",
    "\n",
    "badLinesHeights = set([point[1] for point in badLinesPoints])\n",
    "print(len(badLinesHeights))\n",
    "\n",
    "badLines = []\n",
    "\n",
    "for h in badLinesHeights:\n",
    "    badLines.append([point for point in badLinesPoints if point[1] == h])\n",
    "    \n",
    "print(len(badLines))"
   ]
  },
  {
   "cell_type": "markdown",
   "metadata": {},
   "source": [
    "## generating the image and drawing the lines ##"
   ]
  },
  {
   "cell_type": "code",
   "execution_count": null,
   "metadata": {},
   "outputs": [],
   "source": [
    "im = Image.fromarray(imageArray.transpose())\n",
    "new_im = im.convert('RGB')\n",
    "img2 = copy.deepcopy(new_im)\n",
    "d2 = ImageDraw.Draw(img2)\n",
    "pixels2 = img2.load()\n",
    "\n",
    "for point in startingPoints:\n",
    "    pixels2[point[0], point[1]] = (255, 0, 0)\n",
    "for line in mergedLongHorizontalLines:\n",
    "    for point in line:\n",
    "        pixels2[point[0], point[1]] = (0, 0, 255)"
   ]
  },
  {
   "cell_type": "markdown",
   "metadata": {},
   "source": [
    "## viewing the image ##"
   ]
  },
  {
   "cell_type": "code",
   "execution_count": null,
   "metadata": {},
   "outputs": [],
   "source": [
    "img2.show()\n",
    "img2.save('lines_3.png')"
   ]
  },
  {
   "cell_type": "markdown",
   "metadata": {},
   "source": [
    "## grouping the staves ##"
   ]
  },
  {
   "cell_type": "code",
   "execution_count": null,
   "metadata": {},
   "outputs": [],
   "source": [
    "clustersOfFive = []\n",
    "\n",
    "index = 0\n",
    "while index + 5 < len(mergedLongHorizontalLines):\n",
    "    clustersOfFive.append(mergedLongHorizontalLines[index:index + 5])\n",
    "    index = index + 5\n",
    "\n",
    "if 5 * len(clustersOfFive) < len(mergedLongHorizontalLines):\n",
    "    clustersOfFive.append(mergedLongHorizontalLines[index:])\n",
    "\n",
    "print('found', len([i for i in clustersOfFive if len(i) == 5]), 'clusters with 5 lines')\n",
    "if len(clustersOfFive[-1]) != 5:\n",
    "    print('and one cluster with', len(clustersOfFive[-1]))\n",
    "\n",
    "if len(clustersOfFive[-1]) != 5:\n",
    "    clustersOfFive = clustersOfFive[0:-1]\n",
    "\n",
    "staves = []\n",
    "for group in clustersOfFive:\n",
    "    gaps = []\n",
    "    for lineIndex in range(0, len(group) - 1):\n",
    "        gaps.append(abs(group[lineIndex + 1][0][1] - group[lineIndex][0][1]))\n",
    "    if max(gaps) / min(gaps) < 3:\n",
    "        staves.append(group)\n",
    "\n",
    "clustersOfFive = staves"
   ]
  },
  {
   "cell_type": "markdown",
   "metadata": {},
   "source": [
    "## generating ledger lines ##"
   ]
  },
  {
   "cell_type": "code",
   "execution_count": null,
   "metadata": {},
   "outputs": [],
   "source": [
    "newClusters = []\n",
    "ledgerLines = []\n",
    "distanceBetweenLines = np.array([0])\n",
    "for cluster in clustersOfFive:\n",
    "    \n",
    "    # CHECKING IF THE CLUSTER CONTAINS AT LEAST 2 LINES, SO WE CAN MAKE DETECT A GAP SIZE\n",
    "    \n",
    "    # IF THERE IS JUST ONE LINE IN THE CLUSTER, WE USE A PREVIOUS GAP SIZE, IF THERE IS ONE\n",
    "    # IF THERE ISN'T, WE SKIP THE CLUSTER\n",
    "\n",
    "    if len(cluster) > 1:\n",
    "        commonX, distanceBetweenLines = averageDistance(cluster)\n",
    "        roundedDistanceBetweenLines = np.around(distanceBetweenLines.astype(np.double)).astype(int)\n",
    "        \n",
    "    if distanceBetweenLines.all() != None:\n",
    "        \n",
    "        firstLine = [i for i in cluster[0] if i[0] in commonX]\n",
    "\n",
    "        # THE THREE VIRTUAL LINES ABOVE\n",
    "\n",
    "        ledgerLine1 = []\n",
    "        for i in range(0, len(firstLine)):\n",
    "            ledgerLine1.append((firstLine[i][0], firstLine[i][1] - roundedDistanceBetweenLines[i]))\n",
    "        if check_if_in_borders(ledgerLine1):\n",
    "            ledgerLines.append(ledgerLine1)\n",
    "\n",
    "        ledgerLine2 = []\n",
    "        for point in ledgerLine1:\n",
    "            ledgerLine2.append((point[0], point[1] - int(np.mean(roundedDistanceBetweenLines))))\n",
    "        if check_if_in_borders(ledgerLine2):\n",
    "            ledgerLines.append(ledgerLine2)\n",
    "\n",
    "        ledgerLine3 = []\n",
    "        for point in ledgerLine2:\n",
    "            ledgerLine3.append((point[0], point[1] - int(np.mean(roundedDistanceBetweenLines))))\n",
    "        if check_if_in_borders(ledgerLine3):\n",
    "            ledgerLines.append(ledgerLine3)\n",
    "\n",
    "\n",
    "        lastLine = [i for i in cluster[-1] if i[0] in commonX]\n",
    "\n",
    "        # THE THREE VIRTUAL LINES BELOW\n",
    "\n",
    "        ledgerLine4 = []\n",
    "        for i in range(0, len(lastLine)):\n",
    "            ledgerLine4.append((lastLine[i][0], lastLine[i][1] + roundedDistanceBetweenLines[i]))\n",
    "        if check_if_in_borders(ledgerLine4):\n",
    "            ledgerLines.append(ledgerLine4)\n",
    "\n",
    "        ledgerLine5 = []\n",
    "        for point in ledgerLine4:\n",
    "            ledgerLine5.append((point[0], point[1] + int(np.mean(roundedDistanceBetweenLines))))\n",
    "        if check_if_in_borders(ledgerLine5):\n",
    "            ledgerLines.append(ledgerLine5)\n",
    "\n",
    "        ledgerLine6 = []\n",
    "        for point in ledgerLine5:\n",
    "            ledgerLine6.append((point[0], point[1] + int(np.mean(roundedDistanceBetweenLines))))\n",
    "        if check_if_in_borders(ledgerLine6):\n",
    "            ledgerLines.append(ledgerLine6)\n",
    "    \n",
    "    newCluster = cluster + ledgerLines\n",
    "    newClusters.append(newCluster)\n",
    "    ledgerLines = []"
   ]
  },
  {
   "cell_type": "markdown",
   "metadata": {},
   "source": [
    "## trimming the lines in the clusters so that they all start and end at the same x ##"
   ]
  },
  {
   "cell_type": "code",
   "execution_count": null,
   "metadata": {},
   "outputs": [],
   "source": [
    "trimmedClusters = []\n",
    "for cluster in newClusters:\n",
    "    \n",
    "    # FINDING THE MAXIMUM STARTING X\n",
    "    # AND THE MINIMUM ENDING X\n",
    "    maxStart = 0\n",
    "    minEnd = 1000\n",
    "    for line in cluster:\n",
    "\n",
    "        maxi = min(line, key = lambda item: item[0])[0]\n",
    "        if maxi > maxStart:\n",
    "            maxStart = maxi\n",
    "\n",
    "        mini = max(line, key = lambda item: item[0])[0]\n",
    "        if minEnd < mini:\n",
    "            minEnd = mini\n",
    "    \n",
    "    newCluster = []\n",
    "    for line in cluster:\n",
    "        newLine = [point for point in line if maxStart <= point[0] <= minEnd]\n",
    "        newCluster.append(newLine)\n",
    "        \n",
    "    trimmedClusters.append(newCluster)"
   ]
  },
  {
   "cell_type": "markdown",
   "metadata": {},
   "source": [
    "## sorting the lines in each cluster, by height ##"
   ]
  },
  {
   "cell_type": "code",
   "execution_count": null,
   "metadata": {},
   "outputs": [],
   "source": [
    "sortedClusters = []\n",
    "for cluster in trimmedClusters:\n",
    "    sortedClusters.append(sorted(cluster, key = lambda item: item[0][1]))"
   ]
  },
  {
   "cell_type": "markdown",
   "metadata": {},
   "source": [
    "## adding the ledger lines to the image ##"
   ]
  },
  {
   "cell_type": "code",
   "execution_count": null,
   "metadata": {},
   "outputs": [],
   "source": [
    "for cluster in sortedClusters:\n",
    "    for line in cluster:\n",
    "        for point in line:\n",
    "            pixels2[point[0], point[1]] = (0, 255, 0)"
   ]
  },
  {
   "cell_type": "markdown",
   "metadata": {},
   "source": [
    "## viewing the image ##"
   ]
  },
  {
   "cell_type": "code",
   "execution_count": null,
   "metadata": {},
   "outputs": [],
   "source": [
    "img2.show()\n",
    "img2.save('lines_4.png')"
   ]
  },
  {
   "cell_type": "markdown",
   "metadata": {},
   "source": [
    "## counting the dark pixels between lines ##"
   ]
  },
  {
   "cell_type": "code",
   "execution_count": null,
   "metadata": {},
   "outputs": [],
   "source": [
    "%%time\n",
    "pixelCountClusters = []\n",
    "clusterNO = 0\n",
    "lineNO = 0\n",
    "\n",
    "for cluster in sortedClusters:\n",
    "    if len(cluster) > 1:\n",
    "        \n",
    "        # A LIST OF COUNTS FOR EACH LINE (EXCEPT THE LAST ONE) IN EACH CLUSTER\n",
    "        pixelCountCluster = []\n",
    "        \n",
    "        # FINDING THE MINIMUM AND MAXIMUM X VALUES FROM THE WHOLE CLUSTER\n",
    "        startingPoints = []\n",
    "        endingPoints = []\n",
    "        for line in cluster:\n",
    "            minX = min(line, key = lambda item: item[0])[0]\n",
    "            maxX = max(line, key = lambda item: item[0])[0]\n",
    "            startingPoints.append(minX)\n",
    "            endingPoints.append(maxX)\n",
    "            \n",
    "        start = max(startingPoints)\n",
    "        end = min(endingPoints)\n",
    "        \n",
    "        lineNO = 0\n",
    "        for lineIndex in range(0, len(cluster) - 1):\n",
    "            pixelCount = []\n",
    "            currentLine = cluster[lineIndex]\n",
    "            nextLine = cluster[lineIndex + 1]\n",
    "            for pixel1 in currentLine:\n",
    "                if start <= pixel1[0] <= end:\n",
    "                    pixel2 = [pixel for pixel in nextLine if pixel[0] == pixel1[0]]\n",
    "                    if len(pixel2) > 0:\n",
    "                        pixel2 = pixel2[0]\n",
    "                        # ONLY POINTS IN BETWEEN ARE COUNTED\n",
    "                        lineGap = abs(pixel2[1] - pixel1[1])\n",
    "                        \n",
    "                        linesToIgnore = [line for line in badLines if abs(line[0][1] - pixel2[1]) < 3 * lineGap]\n",
    "                        pixelCount.append((count_dark_pixels_between_points(pixel1, pixel2, 150, linesToIgnore), pixel1, pixel2))\n",
    "                   \n",
    "                    else:\n",
    "                        print(\"couldn't find a point in line\", lineNO, \"cluster\", clusterNO, \"with x equal to\", pixel1[0])\n",
    "            \n",
    "            pixelCountCluster.append(pixelCount)\n",
    "            \n",
    "            lineNO = lineNO + 1\n",
    "            \n",
    "        pixelCountClusters.append(pixelCountCluster)\n",
    "    clusterNO = clusterNO + 1"
   ]
  },
  {
   "cell_type": "markdown",
   "metadata": {},
   "source": [
    "## finding the minimum and maximum number of dark pixels between all lines ##"
   ]
  },
  {
   "cell_type": "code",
   "execution_count": null,
   "metadata": {},
   "outputs": [],
   "source": [
    "minCount = [1000]\n",
    "maxCount = [0]\n",
    "for cluster in pixelCountClusters:\n",
    "    for line in cluster:\n",
    "        \n",
    "        mini = min(line, key = lambda item: item[0])\n",
    "        if minCount[0] > mini[0]:\n",
    "            minCount = mini\n",
    "            \n",
    "        maxi = max(line, key = lambda item: item[0])\n",
    "        if maxCount[0] < maxi[0]:\n",
    "            maxCount = maxi\n",
    "\n",
    "print('lowest count of dark pixels:', minCount[0])\n",
    "print('highest count of dark pixels:', maxCount[0])"
   ]
  },
  {
   "cell_type": "markdown",
   "metadata": {},
   "source": [
    "## visualizing the change in pixel count between lines ##"
   ]
  },
  {
   "cell_type": "code",
   "execution_count": null,
   "metadata": {},
   "outputs": [],
   "source": [
    "yStep = maxCount[0] + 5\n",
    "canvas = Image.new('RGB', (width + 20, yStep * 16 * len(pixelCountClusters) + 100), \"white\")\n",
    "\n",
    "width3, height3 = canvas.size\n",
    "print(width3, height3)\n",
    "\n",
    "\n",
    "pixels3 = canvas.load()\n",
    "c = 1\n",
    "x = 20\n",
    "y = 20\n",
    "for cluster in pixelCountClusters:\n",
    "    for line in cluster:\n",
    "        for pixelCount in line:\n",
    "            try:\n",
    "                pixels3[x, y - pixelCount[0]] = (0, 0, 0)\n",
    "            except:\n",
    "                pass\n",
    "            x = x + 1\n",
    "        c = c + 1\n",
    "        y = y + yStep\n",
    "        x = 20\n",
    "    y = y + yStep * 5\n",
    "        \n",
    "canvas.show()\n",
    "canvas.save('pixel_count.png')"
   ]
  },
  {
   "cell_type": "markdown",
   "metadata": {},
   "source": [
    "## choosing a background ##"
   ]
  },
  {
   "cell_type": "code",
   "execution_count": null,
   "metadata": {},
   "outputs": [],
   "source": [
    "background = minCount[0]\n",
    "background = 1\n",
    "print(background)"
   ]
  },
  {
   "cell_type": "markdown",
   "metadata": {},
   "source": [
    "## reading symbol delimiters ##"
   ]
  },
  {
   "cell_type": "code",
   "execution_count": null,
   "metadata": {},
   "outputs": [],
   "source": [
    "symbolsClusters = []\n",
    "for cluster in pixelCountClusters:\n",
    "    symbolsCluster = []\n",
    "    for gap in cluster:\n",
    "        index = 0\n",
    "        symbolsGap = []\n",
    "        while index < len(gap):\n",
    "            if gap[index][0] > background:\n",
    "                start = gap[index]\n",
    "                while index < len(gap) and gap[index][0] > background:\n",
    "                    index = index + 1\n",
    "                if index == len(gap):\n",
    "                    end = gap[index - 1]\n",
    "                else:\n",
    "                    end = gap[index]\n",
    "                #print(start, end)\n",
    "                symbolsGap.append((start, end))\n",
    "            index = index + 1\n",
    "        symbolsCluster.append(symbolsGap)\n",
    "    symbolsClusters.append(symbolsCluster)"
   ]
  },
  {
   "cell_type": "markdown",
   "metadata": {},
   "source": [
    "## viewing the found symbols ##"
   ]
  },
  {
   "cell_type": "code",
   "execution_count": null,
   "metadata": {},
   "outputs": [],
   "source": [
    "im = Image.fromarray(imageArray.transpose())\n",
    "new_im = im.convert('RGB')\n",
    "img4 = copy.deepcopy(new_im)\n",
    "d4 = ImageDraw.Draw(img4)\n",
    "pixels4 = img4.load()"
   ]
  },
  {
   "cell_type": "code",
   "execution_count": null,
   "metadata": {},
   "outputs": [],
   "source": [
    "for symbolsCluster in symbolsClusters:\n",
    "    for symbolsGap in symbolsCluster:\n",
    "        for symbol in symbolsGap:\n",
    "            d4.rectangle((symbol[0][1][0], symbol[0][1][1], symbol[1][1][0], symbol[1][1][1] + 7), outline = \"red\")"
   ]
  },
  {
   "cell_type": "code",
   "execution_count": null,
   "metadata": {},
   "outputs": [],
   "source": [
    "img4.show()\n",
    "img4.save('found_1.png')"
   ]
  },
  {
   "cell_type": "code",
   "execution_count": null,
   "metadata": {},
   "outputs": [],
   "source": [
    "im = Image.fromarray(imageArray.transpose())\n",
    "new_im = im.convert('RGB')\n",
    "img4 = copy.deepcopy(new_im)\n",
    "d4 = ImageDraw.Draw(img4)\n",
    "pixels4 = img4.load()"
   ]
  },
  {
   "cell_type": "markdown",
   "metadata": {},
   "source": [
    "## computing the size of the gap between the lines, using the first cluster of lines (staves) ##"
   ]
  },
  {
   "cell_type": "code",
   "execution_count": null,
   "metadata": {},
   "outputs": [],
   "source": [
    "gap = int(np.mean(roundedDistanceBetweenLines))\n",
    "print(gap)"
   ]
  },
  {
   "cell_type": "markdown",
   "metadata": {},
   "source": [
    "## choosing a background ##"
   ]
  },
  {
   "cell_type": "code",
   "execution_count": null,
   "metadata": {},
   "outputs": [],
   "source": [
    "sumOfMinimums = 0\n",
    "for line in pixelCountClusters[0]:\n",
    "     sumOfMinimums = sumOfMinimums + min([count[0] for count in line])\n",
    "        \n",
    "background = int(gap / 2)\n",
    "print(background)"
   ]
  },
  {
   "cell_type": "markdown",
   "metadata": {},
   "source": [
    "## reading symbol delimiters ##"
   ]
  },
  {
   "cell_type": "code",
   "execution_count": null,
   "metadata": {},
   "outputs": [],
   "source": [
    "symbolsClusters = []\n",
    "for cluster in pixelCountClusters:\n",
    "    symbols = []\n",
    "    index = 0\n",
    "    while index < len(cluster[0]):\n",
    "        \n",
    "        totalDarkCounts = []\n",
    "        totalDark = 0\n",
    "        for line in cluster:\n",
    "            totalDark = totalDark + line[index][0]\n",
    "            totalDarkCounts.append(line[index][0])\n",
    "        \n",
    "        darkCounts = [totalDarkCounts]\n",
    "            \n",
    "        if totalDark > background:\n",
    "            start = cluster[0][index]\n",
    "            \n",
    "            while index < len(cluster[0]) - 1 and totalDark > background:\n",
    "                darkCounts.append(totalDarkCounts)\n",
    "                \n",
    "                index = index + 1\n",
    "                \n",
    "                totalDarkCounts = []\n",
    "                totalDark = 0\n",
    "                for line in cluster:\n",
    "                    totalDark = totalDark + line[index][0]\n",
    "                    totalDarkCounts.append(line[index][0])\n",
    "                    \n",
    "                    \n",
    "                        \n",
    "            end = cluster[-1][index]\n",
    "            symbols.append((start, end, darkCounts))\n",
    "        \n",
    "        else:\n",
    "            darkCounts = []\n",
    "            \n",
    "        index = index + 1\n",
    "                    #print(start, end)\n",
    "            \n",
    "    symbolsClusters.append(symbols)"
   ]
  },
  {
   "cell_type": "code",
   "execution_count": null,
   "metadata": {},
   "outputs": [],
   "source": [
    "im = Image.fromarray(imageArray.transpose())\n",
    "new_im = im.convert('RGB')\n",
    "img4 = copy.deepcopy(new_im)\n",
    "d4 = ImageDraw.Draw(img4)\n",
    "pixels4 = img4.load()"
   ]
  },
  {
   "cell_type": "markdown",
   "metadata": {},
   "source": [
    "## cropping the symbols ##"
   ]
  },
  {
   "cell_type": "code",
   "execution_count": null,
   "metadata": {
    "scrolled": true
   },
   "outputs": [],
   "source": [
    "import os\n",
    "# creating a folder for the cropped symbols\n",
    "folders = os.listdir()\n",
    "if 'crop' not in folders:\n",
    "    os.mkdir('crop')\n",
    "stave = 1\n",
    "for cluster in symbolsClusters:\n",
    "    id = 1\n",
    "    for symbol in cluster:\n",
    "        if abs(symbol[0][1][0] - symbol[1][1][0]) > 1.3 * gap:\n",
    "            d4.rectangle((symbol[0][1][0], symbol[0][1][1], symbol[1][1][0], symbol[1][1][1]), outline = \"red\")\n",
    "            imCrop = img4.crop((symbol[0][1][0] - gap, symbol[0][1][1] - gap, symbol[1][1][0] + gap, symbol[1][1][1] + gap))\n",
    "            imCrop.save(\"crop/\" + \"stave_\" + str(stave) + \"_\" + str(id) + \".png\")\n",
    "            id = id + 1\n",
    "    stave = stave + 1"
   ]
  },
  {
   "cell_type": "code",
   "execution_count": null,
   "metadata": {},
   "outputs": [],
   "source": [
    "img4.show()\n",
    "img4.save('found_2.png')"
   ]
  }
 ],
 "metadata": {
  "kernelspec": {
   "display_name": "Python 3",
   "language": "python",
   "name": "python3"
  },
  "language_info": {
   "codemirror_mode": {
    "name": "ipython",
    "version": 3
   },
   "file_extension": ".py",
   "mimetype": "text/x-python",
   "name": "python",
   "nbconvert_exporter": "python",
   "pygments_lexer": "ipython3",
   "version": "3.9.0"
  }
 },
 "nbformat": 4,
 "nbformat_minor": 1
}
