{
 "cells": [
  {
   "cell_type": "code",
   "execution_count": 1,
   "id": "adult-ancient",
   "metadata": {
    "id": "adult-ancient"
   },
   "outputs": [],
   "source": [
    "import matplotlib.pyplot as plt\n",
    "import matplotlib.patches as mpatches\n",
    "\n",
    "from skimage import data\n",
    "from skimage.filters import threshold_otsu\n",
    "from skimage.segmentation import clear_border\n",
    "from skimage.measure import label, regionprops\n",
    "from skimage.morphology import closing, square\n",
    "from skimage.color import label2rgb\n"
   ]
  },
  {
   "cell_type": "code",
   "execution_count": 2,
   "id": "working-bullet",
   "metadata": {
    "id": "working-bullet"
   },
   "outputs": [],
   "source": [
    "from PIL import Image, ImageDraw, ImageOps\n",
    "import numpy as np\n",
    "import copy\n",
    "import os\n",
    "import uuid\n",
    "from zipfile import ZipFile\n",
    "import time"
   ]
  },
  {
   "cell_type": "code",
   "execution_count": 3,
   "id": "another-velvet",
   "metadata": {
    "id": "another-velvet"
   },
   "outputs": [],
   "source": [
    "def show_image(data, transpose = False):\n",
    "    if transpose == True:\n",
    "        im = Image.fromarray(data.transpose())\n",
    "    else:\n",
    "        im = Image.fromarray(data)\n",
    "    new_im = im.convert('RGB')\n",
    "    new_im.show()"
   ]
  },
  {
   "cell_type": "code",
   "execution_count": 4,
   "id": "planned-leave",
   "metadata": {
    "id": "planned-leave"
   },
   "outputs": [],
   "source": [
    "def rgb_to_grayscale(pixel):\n",
    "    result = (0.2126 * pixel[0] + 0.7152 * pixel[1] + 0.0722 * pixel[2])\n",
    "    return result"
   ]
  },
  {
   "cell_type": "code",
   "execution_count": 5,
   "id": "under-horror",
   "metadata": {
    "id": "under-horror"
   },
   "outputs": [],
   "source": [
    "def convert_binary(data, thresh, b):\n",
    "    if b == 1:\n",
    "        converted = np.where(data < thresh, 255, 0)\n",
    "    else:\n",
    "        converted = np.where(data < thresh, 0, 255)\n",
    "    replacements = np.unique(converted, return_counts = True)\n",
    "    return converted, replacements"
   ]
  },
  {
   "cell_type": "code",
   "execution_count": 6,
   "id": "cutting-fiber",
   "metadata": {
    "id": "cutting-fiber"
   },
   "outputs": [],
   "source": [
    "def save_images(imagePath, savePath, colours1, colours2, colours3, padding, show, thresh):\n",
    "    img = Image.open(imagePath)\n",
    "\n",
    "    #img = img.convert('RGB')\n",
    "    image = np.array(img)\n",
    "    image1 = copy.deepcopy(image)\n",
    "    pixels = img.load()\n",
    "    \n",
    "    size = image.shape\n",
    "    for i in range(0, size[0]):\n",
    "        for j in range(0, size[1]):\n",
    "            if image[i][j] in colours1:\n",
    "                image[i][j] = 35    \n",
    "            else:\n",
    "                image[i][j] = 0\n",
    "    \n",
    "    cleared = clear_border(image)\n",
    "    label_image = label(cleared)\n",
    "    image_label_overlay = label2rgb(label_image, image=image, bg_label=0)\n",
    "    \n",
    "    rectangles = []\n",
    "    if show == True:\n",
    "        fig, ax = plt.subplots(figsize=(30, 18))\n",
    "        ax.imshow(img)\n",
    "\n",
    "    for region in regionprops(label_image):\n",
    "        # take regions with large enough areas\n",
    "        if region.area >= 100:\n",
    "            \n",
    "            minr, minc, maxr, maxc = region.bbox\n",
    "            rectangles.append((minr, minc, maxr, maxc))\n",
    "            \n",
    "            if show == True:\n",
    "                rect = mpatches.Rectangle((minc, minr), maxc - minc, maxr - minr,\n",
    "                                      fill=False, edgecolor='red', linewidth=2)\n",
    "                ax.add_patch(rect)\n",
    "    if show == True:\n",
    "        ax.set_axis_off()\n",
    "        plt.tight_layout()\n",
    "        plt.savefig('foo.png')\n",
    "        plt.show()\n",
    "        \n",
    "    # iterating through the images\n",
    "    id = 0\n",
    "    for rectangle in rectangles:\n",
    "        \n",
    "        # cropping the images\n",
    "        top, left, bottom, right = rectangle\n",
    "        img2 = img.crop((left - padding, top - padding, right + padding, bottom + padding))\n",
    "\n",
    "        \n",
    "        img2 = img2.convert('RGB')\n",
    "        grayPixelsList = []\n",
    "        \n",
    "        # converting the image to an array\n",
    "        data = np.array(img2)\n",
    "        \n",
    "        # checking for bad colors\n",
    "        badColorScore = []\n",
    "        for colour in colours2:\n",
    "            if np.all(np.isin(colour, data)) == False:\n",
    "                badColorScore.append(True)\n",
    "            else:\n",
    "                badColorScore.append(False)\n",
    "        \n",
    "        \n",
    "        # checking for necessary colors\n",
    "        necessaryColorScore = [False]\n",
    "        if len(colours3) > 0:\n",
    "            for colour in colours3:\n",
    "                if np.all(np.isin(colour, data)) == True:\n",
    "                    necessaryColorScore.append(True)\n",
    "                else:\n",
    "                    necessaryColorScore.append(False)\n",
    "        else:\n",
    "            necessaryColorScore = [True]\n",
    "        \n",
    "        \n",
    "        if np.all(badColorScore) == True and np.any(necessaryColorScore) == True:\n",
    "        \n",
    "            for i in range(0, data.shape[0]):\n",
    "                grayPixels =  [rgb_to_grayscale(pixel) for pixel in data[i]]\n",
    "                grayPixelsList.append(grayPixels)\n",
    "            data_grayscale = np.array(grayPixelsList)\n",
    "\n",
    "            # converting to black and white\n",
    "            data_binary, count = convert_binary(data_grayscale, thresh, 0)\n",
    "            #print('After conversion, there are', count[1][0], 'BLACK pixels and', count[1][1], 'WHITE pixels')\n",
    "            try:\n",
    "                imageBlackWhite = Image.fromarray(data_binary.astype(np.uint64))\n",
    "            except:\n",
    "                imageBlackWhite = Image.fromarray(data_binary.astype(np.uint8))\n",
    "\n",
    "            imageBlackWhite = imageBlackWhite.convert('RGB')\n",
    "\n",
    "            # saving the images\n",
    "            #print('now saving image', str(id) + \".png\")\n",
    "            id = id + 1\n",
    "            #imageBlackWhite.save(savePath + \"/\" + str(id) + \".png\")\n",
    "            \n",
    "            imageBlackWhite.save(savePath + \"/\" + str(uuid.uuid1()) + \".png\")\n",
    "                      \n",
    "        \n",
    "    return id"
   ]
  },
  {
   "cell_type": "code",
   "execution_count": 7,
   "id": "electrical-turkish",
   "metadata": {
    "id": "electrical-turkish"
   },
   "outputs": [],
   "source": [
    "beamPurple = (146, (107, 5, 232))\n",
    "staffGreen = (165, (158, 144, 175))\n",
    "verticalBeamGreen = (52, (133, 163, 1))\n",
    "fullBubbleOnLine = (35, (130, 135, 255))\n",
    "fullBubbleBetweenLines = (37, (56, 0, 0))\n",
    "emptyBubbleOnLine = (39, (189, 230, 191))\n",
    "emptyBubbleBetweenLines = (41, (147, 184, 181))\n",
    "upFlag = (58, (0, 214, 212))\n",
    "downFlag = (64, (218, 149, 255))"
   ]
  },
  {
   "cell_type": "code",
   "execution_count": 14,
   "id": "attempted-blank",
   "metadata": {
    "colab": {
     "base_uri": "https://localhost:8080/"
    },
    "id": "attempted-blank",
    "outputId": "7aadbcd8-1eae-4524-8135-d6bc848f8f22"
   },
   "outputs": [
    {
     "name": "stdout",
     "output_type": "stream",
     "text": [
      "2\n"
     ]
    }
   ],
   "source": [
    "imageFiles = os.listdir('segmentation')\n",
    "imageFiles = imageFiles[10:12]\n",
    "print(len(imageFiles))"
   ]
  },
  {
   "cell_type": "code",
   "execution_count": 15,
   "id": "INvBD3F8nSsX",
   "metadata": {
    "id": "INvBD3F8nSsX"
   },
   "outputs": [],
   "source": [
    "class symbol():\n",
    "    def __init__(self, name, colorsToTurn, badColours, necessaryColours):\n",
    "        self.colorsToTurn = colorsToTurn\n",
    "        self.necessaryColours = necessaryColours\n",
    "        self.badColours = badColours\n",
    "        self.necessaryColours = necessaryColours\n",
    "        self.name = name"
   ]
  },
  {
   "cell_type": "code",
   "execution_count": 17,
   "id": "xdQIWUsUomiE",
   "metadata": {
    "id": "xdQIWUsUomiE"
   },
   "outputs": [],
   "source": [
    "symbols = []\n",
    "symbols.append(symbol('quarterBetweenLines', [fullBubbleBetweenLines[0], verticalBeamGreen[0]], [beamPurple[1], fullBubbleOnLine[1], emptyBubbleOnLine[1], emptyBubbleBetweenLines[1], upFlag[1], downFlag[1]], []))\n",
    "symbols.append(symbol('quarterOnLine', [fullBubbleOnLine[0], verticalBeamGreen[0]], [beamPurple[1], fullBubbleBetweenLines[1], emptyBubbleOnLine[1], emptyBubbleBetweenLines[1], upFlag[1], downFlag[1]], []))\n",
    "symbols.append(symbol('eighthBetweenLinesUp', [fullBubbleBetweenLines[0], verticalBeamGreen[0], upFlag[0]], [beamPurple[1], fullBubbleOnLine[1], emptyBubbleOnLine[1], emptyBubbleBetweenLines[1], downFlag[1]], [upFlag[1]]))\n",
    "symbols.append(symbol('eighthBetweenLinesDown', [fullBubbleBetweenLines[0], verticalBeamGreen[0], downFlag[0]], [beamPurple[1], fullBubbleOnLine[1], emptyBubbleOnLine[1], emptyBubbleBetweenLines[1], upFlag[1]], [downFlag[1]]))\n",
    "symbols.append(symbol('eighthOnLineUp', [fullBubbleOnLine[0], verticalBeamGreen[0], upFlag[0]], [beamPurple[1], fullBubbleBetweenLines[1], emptyBubbleOnLine[1], emptyBubbleBetweenLines[1], downFlag[1]], [upFlag[1]]))\n",
    "symbols.append(symbol('eighthOnLineDown', [fullBubbleOnLine[0], verticalBeamGreen[0], downFlag[0]], [beamPurple[1], fullBubbleBetweenLines[0], emptyBubbleOnLine[1], emptyBubbleBetweenLines[1], upFlag[1]], [downFlag[1]]))\n",
    "symbols.append(symbol('eighthBeamed', [beamPurple[0], fullBubbleBetweenLines[0], fullBubbleOnLine[0], verticalBeamGreen[0]], [emptyBubbleOnLine[1], emptyBubbleBetweenLines[1], upFlag[1], downFlag[1]], [beamPurple[1]]))\n",
    "symbols.append(symbol('halfBetweenLines', [emptyBubbleBetweenLines[0], verticalBeamGreen[0]], [], [emptyBubbleBetweenLines[1]]))\n",
    "symbols.append(symbol('halfOnLine', [emptyBubbleOnLine[0], verticalBeamGreen[0]], [], [emptyBubbleOnLine[1]]))\n"
   ]
  },
  {
   "cell_type": "code",
   "execution_count": 18,
   "id": "680E9BSFr2T_",
   "metadata": {
    "colab": {
     "base_uri": "https://localhost:8080/"
    },
    "id": "680E9BSFr2T_",
    "outputId": "aed8f060-7187-41ad-9832-5ef1cc347eb5"
   },
   "outputs": [
    {
     "name": "stdout",
     "output_type": "stream",
     "text": [
      "searching for halfOnLine...\n",
      "saved 1 images now, 1 in total\n",
      "saved 5 images now, 6 in total\n",
      "6 images saved in total\n",
      "Wall time: 48.2 s\n"
     ]
    }
   ],
   "source": [
    "%%time\n",
    "padding = 30\n",
    "thresh = 254\n",
    "show = False\n",
    "for symbol in symbols[8:9]:\n",
    "    print('searching for ', symbol.name, '...', sep = '')\n",
    "    os.makedirs(symbol.name)\n",
    "    saveTo = symbol.name\n",
    "    #savedPaths = []\n",
    "    totalImages = 0\n",
    "    for imageFile in imageFiles:\n",
    "        #print('now at image', imageFile) \n",
    "        savedImages = save_images('segmentation' + '/' + imageFile, saveTo, symbol.colorsToTurn, symbol.badColours, symbol.necessaryColours, padding, show, thresh)\n",
    "        #savedPaths.append(symbol.name + '/' + imageFile)\n",
    "        totalImages = totalImages + savedImages\n",
    "        print('saved', savedImages, 'images now,', totalImages, 'in total')\n",
    "        if totalImages > 2000:\n",
    "            break\n",
    "\n",
    "    savedPaths = os.listdir(saveTo)\n",
    "    with ZipFile(symbol.name + '.zip','w') as zip:\n",
    "        for imagePath in savedPaths:\n",
    "            zip.write(symbol.name + '/' + imagePath)\n",
    "\n",
    "    print(totalImages, 'images saved in total')"
   ]
  }
 ],
 "metadata": {
  "colab": {
   "collapsed_sections": [],
   "name": "data3.ipynb",
   "provenance": []
  },
  "kernelspec": {
   "display_name": "Python 3",
   "language": "python",
   "name": "python3"
  },
  "language_info": {
   "codemirror_mode": {
    "name": "ipython",
    "version": 3
   },
   "file_extension": ".py",
   "mimetype": "text/x-python",
   "name": "python",
   "nbconvert_exporter": "python",
   "pygments_lexer": "ipython3",
   "version": "3.9.0"
  }
 },
 "nbformat": 4,
 "nbformat_minor": 5
}
